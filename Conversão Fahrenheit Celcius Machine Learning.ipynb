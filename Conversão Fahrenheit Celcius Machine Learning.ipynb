{
  "nbformat": 4,
  "nbformat_minor": 0,
  "metadata": {
    "colab": {
      "provenance": [],
      "authorship_tag": "ABX9TyMdu3taQzMSXof8ebuh3Efd",
      "include_colab_link": true
    },
    "kernelspec": {
      "name": "python3",
      "display_name": "Python 3"
    },
    "language_info": {
      "name": "python"
    }
  },
  "cells": [
    {
      "cell_type": "markdown",
      "metadata": {
        "id": "view-in-github",
        "colab_type": "text"
      },
      "source": [
        "<a href=\"https://colab.research.google.com/github/GabaAraujo/Python_IA/blob/main/Convers%C3%A3o%20Fahrenheit%20Celcius%20Machine%20Learning.ipynb\" target=\"_parent\"><img src=\"https://colab.research.google.com/assets/colab-badge.svg\" alt=\"Open In Colab\"/></a>"
      ]
    },
    {
      "cell_type": "markdown",
      "source": [
        "Usando o TensorFlow do Python sobre Redes Neurais (Deep Learning), escrever um programa para a classificações de padrões abaixo: [Indicar a topologia da rede, o tipo\n",
        "de treinamento da rede, o número de camadas, o número de neurônios em cada camada, seus pesos (Wij) e seus bias (bi)]\n",
        "\n",
        "\n",
        "\n",
        "1) Conversão graus Celsius para Fahrenheit:\n",
        "Celsius\n",
        "\n",
        "-40 -10 0 8 15 22 38\n",
        "\n",
        "Fahrenheit\n",
        "\n",
        "\n",
        "-40 14 32 46.4 59 71.6 100\n",
        "\n",
        "\n",
        "Celsius\n",
        "\n",
        "100 24 20 30 36\n",
        "\n",
        "Fahrenheit\n",
        "\n",
        "???(212) ???(75.2)  ???(68) ???(86) ???(96.8)\n",
        "\n"
      ],
      "metadata": {
        "id": "G4b-3GIQ7ixc"
      }
    },
    {
      "cell_type": "code",
      "execution_count": null,
      "metadata": {
        "colab": {
          "base_uri": "https://localhost:8080/"
        },
        "id": "1j3vsWkt7VWz",
        "outputId": "c73326a1-68a0-4b9b-c80f-80394dfd0508"
      },
      "outputs": [
        {
          "output_type": "stream",
          "name": "stdout",
          "text": [
            "-40.0  Celsius = -40.0  Fahrenheit\n",
            "-10.0  Celsius = 14.0  Fahrenheit\n",
            "0.0  Celsius = 32.0  Fahrenheit\n",
            "8.0  Celsius = 46.0  Fahrenheit\n",
            "15.0  Celsius = 59.0  Fahrenheit\n",
            "22.0  Celsius = 72.0  Fahrenheit\n",
            "38.0  Celsius = 100.0  Fahrenheit\n"
          ]
        }
      ],
      "source": [
        "import tensorflow as tf\n",
        "import numpy as np\n",
        "\n",
        "\n",
        "\n",
        "#Cria um array de treinamento de dados do tipo float - tendo - conversao/resultado\n",
        "celsius_q = np.array([-40, -10, 0, 8, 15, 22, 38], dtype=float)\n",
        "fahrenheit_a = np.array([-40, 14, 32, 46, 59, 72, 100], dtype=float)\n",
        "\n",
        "\n",
        "#Faz a impressão  dos dados do array\n",
        "for i, c in enumerate(celsius_q): #roda o vetor de celcius ate o final\n",
        "    print(\"{}  Celsius = {}  Fahrenheit\".format(c, fahrenheit_a[i]))"
      ]
    },
    {
      "cell_type": "code",
      "source": [
        "#faz a declaracao dos neuronios(1) - units= 1 //  input_shape=[1] quer dizer que a camada espera a entrada de 1 unico valor\n",
        "\n",
        "camada_densa = tf.keras.layers.Dense(units=1, input_shape=[1])\n",
        "\n",
        "\n",
        "#tf.keras.Sequential: Isso é uma classe em TensorFlow/Keras usada para criar modelos sequenciais.\n",
        "#Um modelo sequencial é uma pilha linear de camadas, onde os dados fluem da entrada para a saída na mesma ordem em que as camadas são definidas.\n",
        "\n",
        "#[l0]: Este é um argumento que você está passando para tf.keras.Sequential. Ele especifica as camadas que compõem o modelo.\n",
        "#No seu caso, você está criando um modelo com uma única camada, que é a camada densa que você definiu anteriormente como \"camada_densa\".\n",
        "\n",
        "model = tf.keras.Sequential([camada_densa])\n",
        "\n",
        "\n"
      ],
      "metadata": {
        "id": "r5Pqbf6K-Nc3"
      },
      "execution_count": null,
      "outputs": []
    },
    {
      "cell_type": "code",
      "source": [
        "# Model Compile->Esse método é usado para configurar as configurações de treinamento do modelo antes de iniciar o treinamento.\n",
        "model.compile(loss='mean_squared_error', optimizer=tf.keras.optimizers.Adam(0.1))\n",
        "\n",
        "#loss='mean_squared_error': O argumento loss especifica a função de perda que será usada durante o treinamento.\n",
        "\n",
        "# está sendo usada a função de perda de erro quadrático médio (mean squared error), que é comumente usada em problemas de regressão.\n",
        "#Essa função de perda mede a diferença entre as previsões do modelo e os valores reais e busca minimizar o quadrado dessa diferença durante o treinamento.\n",
        "\n",
        "#optimizer=tf.keras.optimizers.Adam(0.1): O argumento optimizer especifica o otimizador que será usado para ajustar os pesos do modelo durante o treinamento,\n",
        "#com o objetivo de minimizar a função de perda. Neste caso, está sendo usado o otimizador Adam com uma taxa de aprendizado (learning rate) de 0.1.\n",
        "#O otimizador Adam é uma técnica popular de otimização que funciona bem em muitos cenários de treinamento de redes neurais.\n",
        "#A taxa de aprendizado controla o tamanho dos passos que o otimizador dá ao ajustar os pesos.\n",
        "\n",
        "\n"
      ],
      "metadata": {
        "id": "9W9Yu05j_xpf"
      },
      "execution_count": null,
      "outputs": []
    },
    {
      "cell_type": "code",
      "source": [
        "#Treinamento do modelo de 500 epocas, passando os dados x,y de entrada e saida rodando 500 epocas\n",
        "history = model.fit(celsius_q, fahrenheit_a, epochs=5000, verbose=False)\n",
        "print(\"Treinamento finalizado\")"
      ],
      "metadata": {
        "colab": {
          "base_uri": "https://localhost:8080/"
        },
        "id": "FuYra-HtAftW",
        "outputId": "19ea1680-c71f-4d07-d2e0-454b1892b657"
      },
      "execution_count": null,
      "outputs": [
        {
          "output_type": "stream",
          "name": "stdout",
          "text": [
            "Treinamento finalizado\n"
          ]
        }
      ]
    },
    {
      "cell_type": "code",
      "source": [
        "#use the trained model to predict -\n",
        "print(model.predict([100, 24, 20,30,36])) #100 24 20 30 36  --- ???(212) ???(75.2) ???(68) ???(86) ???(96.8)"
      ],
      "metadata": {
        "colab": {
          "base_uri": "https://localhost:8080/"
        },
        "id": "9CtQYrFKCE-0",
        "outputId": "ee7f716c-2810-45a7-e5b6-3b47b53e0590"
      },
      "execution_count": null,
      "outputs": [
        {
          "output_type": "stream",
          "name": "stdout",
          "text": [
            "1/1 [==============================] - 0s 36ms/step\n",
            "[[211.33643]\n",
            " [ 72.95717]\n",
            " [ 65.67404]\n",
            " [ 83.88184]\n",
            " [ 94.80652]]\n"
          ]
        }
      ]
    }
  ]
}