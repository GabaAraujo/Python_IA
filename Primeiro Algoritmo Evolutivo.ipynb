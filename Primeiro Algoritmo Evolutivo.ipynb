{
  "nbformat": 4,
  "nbformat_minor": 0,
  "metadata": {
    "colab": {
      "provenance": [],
      "authorship_tag": "ABX9TyOve3KJJIFpxaReTcJ0HvMg",
      "include_colab_link": true
    },
    "kernelspec": {
      "name": "python3",
      "display_name": "Python 3"
    },
    "language_info": {
      "name": "python"
    }
  },
  "cells": [
    {
      "cell_type": "markdown",
      "metadata": {
        "id": "view-in-github",
        "colab_type": "text"
      },
      "source": [
        "<a href=\"https://colab.research.google.com/github/GabaAraujo/Python_IA/blob/main/Primeiro%20Algoritmo%20Evolutivo.ipynb\" target=\"_parent\"><img src=\"https://colab.research.google.com/assets/colab-badge.svg\" alt=\"Open In Colab\"/></a>"
      ]
    },
    {
      "cell_type": "markdown",
      "source": [
        "## GABRIEL MORAIS BATISTA ASSIS ARAUJO - Inteligência Artificial\n",
        "\n",
        "\n",
        "\n",
        "## ALGORITMOS EVOLUTIVOS\n",
        "\n",
        "- EXERCICIO 1 -\n",
        "08/23/2023\n",
        "\n",
        "\n",
        "\n",
        "email: gabamorais@outlook.com  \n",
        "Linkdn: https://br.linkedin.com/in/gabriel-araujo-a4a521199"
      ],
      "metadata": {
        "id": "PPu76HpSQyoT"
      }
    },
    {
      "cell_type": "code",
      "execution_count": null,
      "metadata": {
        "colab": {
          "base_uri": "https://localhost:8080/"
        },
        "id": "T7h-io8BzV4A",
        "outputId": "c69fc153-94a3-4385-9e39-7ec7695da489"
      },
      "outputs": [
        {
          "output_type": "stream",
          "name": "stdout",
          "text": [
            "Collecting deap\n",
            "  Downloading deap-1.4.1-cp310-cp310-manylinux_2_5_x86_64.manylinux1_x86_64.manylinux_2_17_x86_64.manylinux2014_x86_64.whl (135 kB)\n",
            "\u001b[?25l     \u001b[90m━━━━━━━━━━━━━━━━━━━━━━━━━━━━━━━━━━━━━━━━\u001b[0m \u001b[32m0.0/135.4 kB\u001b[0m \u001b[31m?\u001b[0m eta \u001b[36m-:--:--\u001b[0m\r\u001b[2K     \u001b[91m━━━━━━━━━━━━━━━━━━━━━━━━━━━\u001b[0m\u001b[90m╺\u001b[0m\u001b[90m━━━━━━━━━━━━\u001b[0m \u001b[32m92.2/135.4 kB\u001b[0m \u001b[31m2.7 MB/s\u001b[0m eta \u001b[36m0:00:01\u001b[0m\r\u001b[2K     \u001b[90m━━━━━━━━━━━━━━━━━━━━━━━━━━━━━━━━━━━━━━━\u001b[0m \u001b[32m135.4/135.4 kB\u001b[0m \u001b[31m2.8 MB/s\u001b[0m eta \u001b[36m0:00:00\u001b[0m\n",
            "\u001b[?25hRequirement already satisfied: numpy in /usr/local/lib/python3.10/dist-packages (from deap) (1.23.5)\n",
            "Installing collected packages: deap\n",
            "Successfully installed deap-1.4.1\n"
          ]
        }
      ],
      "source": [
        "!pip install deap"
      ]
    },
    {
      "cell_type": "code",
      "source": [
        "from deap import creator,base,tools,algorithms\n",
        "import numpy as np\n",
        "import matplotlib.pyplot as plt\n",
        "\n",
        "\n",
        "toolbox = base.Toolbox() #criação do nosso ambiente evolutivo.\n",
        "\n",
        "n = 5 # numero de genes do nosso ambiente - 5 vertices\n",
        "\n",
        "creator.create(\"FitnessMin\", base.Fitness, weights=(-1.0,)) #a biblioteca deap foi desenvolvida para aceitar algoritmos de maximização, utilizamos o valor negativo para definir que queremos o valor minimo.\n",
        "#o peso pode ser dividido em mais variaveis - inclusive concorrentes. Como necessitamos o caminho minimo e este e o unico parametro/peso a ser levado em consideração - 1.0 = 100%\n",
        "\n",
        "creator.create(\"EstrIndividuo\",list,fitness = creator.FitnessMin) #criamos o individuo,ele sera introduzido via lista/grafo e sera baseado nos parametros do FitnessMin\n",
        "\n",
        "toolbox.register(\"Genes\", np.random.permutation, n) #genes, serão uma permutação baseado em nossos 5 vertices\n",
        "toolbox.register(\"Individuos\", tools.initIterate, creator.EstrIndividuo, toolbox.Genes) #indivuos serão uma lista - initIterate / moldados pelos genes -\n",
        "toolbox.register(\"Populacao\", tools.initRepeat, list, toolbox.Individuos) # cria a populacao que tem sao compostos pelos seus individuos\n",
        "\n",
        "\n",
        "\n"
      ],
      "metadata": {
        "colab": {
          "base_uri": "https://localhost:8080/"
        },
        "id": "bNY1ZLGPzbSH",
        "outputId": "d97a9632-cb00-4922-b6d9-687ccdc4edc8"
      },
      "execution_count": null,
      "outputs": [
        {
          "output_type": "stream",
          "name": "stderr",
          "text": [
            "/usr/local/lib/python3.10/dist-packages/deap/creator.py:185: RuntimeWarning: A class named 'FitnessMin' has already been created and it will be overwritten. Consider deleting previous creation of that class or rename it.\n",
            "  warnings.warn(\"A class named '{0}' has already been created and it \"\n",
            "/usr/local/lib/python3.10/dist-packages/deap/creator.py:185: RuntimeWarning: A class named 'EstrIndividuo' has already been created and it will be overwritten. Consider deleting previous creation of that class or rename it.\n",
            "  warnings.warn(\"A class named '{0}' has already been created and it \"\n"
          ]
        }
      ]
    },
    {
      "cell_type": "code",
      "source": [
        "pop = toolbox.Populacao(n=10) #cria a população de 10 individuos"
      ],
      "metadata": {
        "id": "MynFAkEQ4eDm"
      },
      "execution_count": null,
      "outputs": []
    },
    {
      "cell_type": "code",
      "source": [
        "#inicio da criação do algoritmos de mutação/cruzamento e batalha\n",
        "toolbox.register(\"mate\",tools.cxPartialyMatched) #cruzamento entre os individuos da população\n",
        "toolbox.register(\"mutate\", tools.mutShuffleIndexes, indpb = 0.1) #mutação dos indivudos\n",
        "toolbox.register(\"select\", tools.selTournament, tournsize = 2) # individuos disputando entre os valores\n"
      ],
      "metadata": {
        "id": "1067-WF0434A"
      },
      "execution_count": null,
      "outputs": []
    },
    {
      "cell_type": "code",
      "source": [
        "dist =[[0, 6, 2, 2, 3], [6, 0, 3, 4, 3], [2, 3, 0, 3, 6], [2, 4, 3, 0, 5], [3, 3, 6, 5, 0]]  #matriz/representação do grafo\n"
      ],
      "metadata": {
        "id": "1D7bqYvq8fk2"
      },
      "execution_count": null,
      "outputs": []
    },
    {
      "cell_type": "code",
      "source": [
        "#funcao de aptdao -> genes que ele tem de percorrer\n",
        "\n",
        "\n",
        "def aptidao(individuo):\n",
        "  f = 0\n",
        "  for i in range(n-1):\n",
        "    local1 = individuo[i]\n",
        "    local2 = individuo[i+1]\n",
        "    distancia = dist[local1][local2] #percorrer o vetor comparando os indivuduos\n",
        "    f = f + distancia\n",
        "\n",
        "  return f,\n",
        "\n"
      ],
      "metadata": {
        "id": "PrTmBu3pFxb_"
      },
      "execution_count": null,
      "outputs": []
    },
    {
      "cell_type": "code",
      "source": [
        "toolbox.register(\"evaluate\",aptidao)"
      ],
      "metadata": {
        "id": "e-jYc6MiHoa2"
      },
      "execution_count": null,
      "outputs": []
    },
    {
      "cell_type": "code",
      "source": [
        "def resultados_salvar(individuo):\n",
        "  return individuo.fitness.values\n"
      ],
      "metadata": {
        "id": "psurMe6-H4GK"
      },
      "execution_count": null,
      "outputs": []
    },
    {
      "cell_type": "code",
      "source": [
        "estatistica = tools.Statistics(resultados_salvar) #recebe os valores dos dados\n",
        "estatistica.register('mean', np.mean) #media\n",
        "estatistica.register('min', np.min) #minimo\n",
        "estatistica.register('max', np.max) #valor maximo\n",
        "\n",
        "\n",
        "\n",
        "hof = tools.HallOfFame(1)#pega o primeiro do hall da fama"
      ],
      "metadata": {
        "id": "2YbFdaQVIEwy"
      },
      "execution_count": null,
      "outputs": []
    },
    {
      "cell_type": "code",
      "source": [
        "result, log = algorithms.eaSimple(pop,toolbox,cxpb=0.8,mutpb=0.1,stats=estatistica,ngen=30,halloffame=hof,verbose=True)"
      ],
      "metadata": {
        "colab": {
          "base_uri": "https://localhost:8080/",
          "height": 175
        },
        "id": "c09gfmMYIt8B",
        "outputId": "2ca9d960-ac86-4781-fe73-f0e481661438"
      },
      "execution_count": 1,
      "outputs": [
        {
          "output_type": "error",
          "ename": "NameError",
          "evalue": "ignored",
          "traceback": [
            "\u001b[0;31m---------------------------------------------------------------------------\u001b[0m",
            "\u001b[0;31mNameError\u001b[0m                                 Traceback (most recent call last)",
            "\u001b[0;32m<ipython-input-1-cdf74273f02d>\u001b[0m in \u001b[0;36m<cell line: 1>\u001b[0;34m()\u001b[0m\n\u001b[0;32m----> 1\u001b[0;31m \u001b[0mresult\u001b[0m\u001b[0;34m,\u001b[0m \u001b[0mlog\u001b[0m \u001b[0;34m=\u001b[0m \u001b[0malgorithms\u001b[0m\u001b[0;34m.\u001b[0m\u001b[0meaSimple\u001b[0m\u001b[0;34m(\u001b[0m\u001b[0mpop\u001b[0m\u001b[0;34m,\u001b[0m\u001b[0mtoolbox\u001b[0m\u001b[0;34m,\u001b[0m\u001b[0mcxpb\u001b[0m\u001b[0;34m=\u001b[0m\u001b[0;36m0.8\u001b[0m\u001b[0;34m,\u001b[0m\u001b[0mmutpb\u001b[0m\u001b[0;34m=\u001b[0m\u001b[0;36m0.1\u001b[0m\u001b[0;34m,\u001b[0m\u001b[0mstats\u001b[0m\u001b[0;34m=\u001b[0m\u001b[0mestatistica\u001b[0m\u001b[0;34m,\u001b[0m\u001b[0mngen\u001b[0m\u001b[0;34m=\u001b[0m\u001b[0;36m30\u001b[0m\u001b[0;34m,\u001b[0m\u001b[0mhalloffame\u001b[0m\u001b[0;34m=\u001b[0m\u001b[0mhof\u001b[0m\u001b[0;34m,\u001b[0m\u001b[0mverbose\u001b[0m\u001b[0;34m=\u001b[0m\u001b[0;32mTrue\u001b[0m\u001b[0;34m)\u001b[0m\u001b[0;34m\u001b[0m\u001b[0;34m\u001b[0m\u001b[0m\n\u001b[0m",
            "\u001b[0;31mNameError\u001b[0m: name 'algorithms' is not defined"
          ]
        }
      ]
    },
    {
      "cell_type": "code",
      "source": [
        "print(hof) #o melhor resultado-> no caso estamos comparando o minimo (-1.0)"
      ],
      "metadata": {
        "colab": {
          "base_uri": "https://localhost:8080/"
        },
        "id": "Bb0q23_ONXm9",
        "outputId": "d264a237-bcb6-4c19-dd78-a3a8db486705"
      },
      "execution_count": null,
      "outputs": [
        {
          "output_type": "stream",
          "name": "stdout",
          "text": [
            "[]\n"
          ]
        }
      ]
    },
    {
      "cell_type": "code",
      "source": [
        "print(result) #resultados da melhor geracao"
      ],
      "metadata": {
        "colab": {
          "base_uri": "https://localhost:8080/"
        },
        "id": "g54rkRIMOlvo",
        "outputId": "42bf2f8a-a143-44b5-8195-556ece979cc0"
      },
      "execution_count": null,
      "outputs": [
        {
          "output_type": "stream",
          "name": "stdout",
          "text": [
            "[[2, 1, 4, 3, 0], [2, 1, 4, 3, 0], [2, 1, 4, 3, 0], [2, 1, 4, 3, 0], [2, 1, 4, 3, 0], [2, 1, 4, 3, 0], [2, 1, 4, 3, 0], [2, 1, 4, 3, 0], [2, 1, 4, 3, 0], [2, 1, 4, 3, 0]]\n"
          ]
        }
      ]
    }
  ]
}